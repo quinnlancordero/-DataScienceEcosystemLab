{
  "metadata": {
    "kernelspec": {
      "name": "python",
      "display_name": "Python (Pyodide)",
      "language": "python"
    },
    "language_info": {
      "codemirror_mode": {
        "name": "python",
        "version": 3
      },
      "file_extension": ".py",
      "mimetype": "text/x-python",
      "name": "python",
      "nbconvert_exporter": "python",
      "pygments_lexer": "ipython3",
      "version": "3.8"
    }
  },
  "nbformat_minor": 5,
  "nbformat": 4,
  "cells": [
    {
      "id": "d5f58609-db20-4485-a279-45fe5c69ba06",
      "cell_type": "markdown",
      "source": "# Data Science Tools and Ecosystem",
      "metadata": {}
    },
    {
      "id": "d6504362-3f38-4fbc-ad70-e6f428332e07",
      "cell_type": "markdown",
      "source": "In this notebook, Data Science Tools and Ecosystem are summarized.",
      "metadata": {}
    },
    {
      "id": "2472b4e8-357b-43b0-b49b-312ee92d67ff",
      "cell_type": "markdown",
      "source": "**Objectives:**\n- Popular Languages in Data Science\n- Commonly Used Libraries in Data Science\n- Data Science Tools",
      "metadata": {}
    },
    {
      "id": "0c4e8925-a41c-414b-8308-73bf3fc82b28",
      "cell_type": "markdown",
      "source": "Some of the popular languages that Data Scientists use are: \n1. Python\n2. R\n3. SQL\n4. Scala",
      "metadata": {}
    },
    {
      "id": "b58b60cc-16fb-48f7-9269-69e66e9b6287",
      "cell_type": "markdown",
      "source": "Some of the commonly used libraries used by Data Scientists include:\n1. Plotly\n2. Pandas\n3. SciPy",
      "metadata": {}
    },
    {
      "id": "c3a2f45a-5c1a-451e-adbf-0cb629571874",
      "cell_type": "markdown",
      "source": "| Data Science Tools |\n|--------------------|\n|Jupyter Notebooks   |\n|RStudio             |\n|Sypder              |",
      "metadata": {}
    },
    {
      "id": "75bc33d0-b120-45a1-813d-b298135cc059",
      "cell_type": "markdown",
      "source": "### Below are a few examples of evaluating arithmetic expressions in Python",
      "metadata": {}
    },
    {
      "id": "f3e77d26-4566-4664-8a71-4ecdf9acf63c",
      "cell_type": "code",
      "source": "# This a simple arithmetic expression to mutiply then add integers\n(3*4)+5",
      "metadata": {
        "trusted": true
      },
      "outputs": [
        {
          "execution_count": 3,
          "output_type": "execute_result",
          "data": {
            "text/plain": "17"
          },
          "metadata": {}
        }
      ],
      "execution_count": 3
    },
    {
      "id": "46b9bbde-1d5d-4cf5-a563-e7f605b267ef",
      "cell_type": "code",
      "source": "#This will convert 200 minutes to hours by dividing by 60\n200/60",
      "metadata": {
        "trusted": true
      },
      "outputs": [
        {
          "execution_count": 4,
          "output_type": "execute_result",
          "data": {
            "text/plain": "3.3333333333333335"
          },
          "metadata": {}
        }
      ],
      "execution_count": 4
    },
    {
      "id": "a66ea70e-473d-40a0-ab28-0f73ab83f44a",
      "cell_type": "markdown",
      "source": "## Author\nQuinn C",
      "metadata": {}
    },
    {
      "id": "0e83825c-cc82-4a5b-99f8-8c21ef4289f1",
      "cell_type": "code",
      "source": "",
      "metadata": {
        "trusted": true
      },
      "outputs": [],
      "execution_count": null
    }
  ]
}